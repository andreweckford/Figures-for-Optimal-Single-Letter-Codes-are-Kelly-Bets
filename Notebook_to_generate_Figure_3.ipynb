{
 "cells": [
  {
   "cell_type": "code",
   "execution_count": null,
   "id": "c40c59cb",
   "metadata": {},
   "outputs": [],
   "source": [
    "import numpy as np\n",
    "import matplotlib.pyplot as plt\n",
    "from RDtools2 import *\n",
    "from scipy.linalg import inv,pinv,null_space\n",
    "import pickle as pkl"
   ]
  },
  {
   "cell_type": "code",
   "execution_count": null,
   "id": "9dd55b14",
   "metadata": {},
   "outputs": [],
   "source": [
    "# here we will pass the diagonal equivalent reward matrix Q to the function\n",
    "def getAvgLambdaStar(Q,px):\n",
    "  return np.sum(np.log(np.diag(Q)) * px)\n",
    "\n",
    "def hx(px):\n",
    "  return np.sum([phi(i) for i in px])"
   ]
  },
  {
   "cell_type": "code",
   "execution_count": null,
   "id": "47ca1da2",
   "metadata": {},
   "outputs": [],
   "source": [
    "R = np.array([[3,0,0],[0,3,0],[0,0,3]])\n",
    "s = np.array([[0.7,0.15,0.15],[0.15,0.7,0.15]])\n",
    "px = np.array([0.333,0.334,0.333])\n",
    "\n",
    "Dxy = getFullDistortionFunction(R,s)\n",
    "result = getRD(px,Dxy,numPoints=400,show_pb=True)\n",
    "\n",
    "# line for the bound\n",
    "dmin = np.min(result['Dmax_v'])\n",
    "dmax = np.max(result['Dmax_v'])\n",
    "L = getAvgLambdaStar(R,px)\n",
    "D_v = np.array([dmin,dmax])\n",
    "B_v = hx(px) - D_v - L\n",
    "\n",
    "# point of equality\n",
    "#pxy = joint_p_from_pxgy_and_px(getT(R,s),px)\n",
    "#Dstar = np.sum(pxy * d)\n",
    "#Rstar = binent(px) - Dstar - L"
   ]
  },
  {
   "cell_type": "code",
   "execution_count": null,
   "id": "4e05262a",
   "metadata": {},
   "outputs": [],
   "source": [
    "s2 = np.vstack((s,np.array([0.15,0.15,0.7])))\n",
    "Dxy = getFullDistortionFunction(R,s2)\n",
    "result2 = getRD(px,Dxy,numPoints=400,show_pb=True)\n",
    "\n",
    "# line for the bound\n",
    "dmin = np.min(result2['Dmax_v'])\n",
    "dmax = np.max(result2['Dmax_v'])\n",
    "L = getAvgLambdaStar(R,px)\n",
    "D_v2 = np.array([dmin,dmax])\n",
    "B_v2 = hx(px) - D_v2 - L"
   ]
  },
  {
   "cell_type": "code",
   "execution_count": null,
   "id": "ec2e6f18",
   "metadata": {},
   "outputs": [],
   "source": [
    "s3 = np.vstack((s2,np.array([0.4,0.3,0.3])))\n",
    "Dxy = getFullDistortionFunction(R,s3)\n",
    "result3 = getRD(px,Dxy,numPoints=400,show_pb=True)\n",
    "\n",
    "# line for the bound\n",
    "dmin = np.min(result3['Dmax_v'])\n",
    "dmax = np.max(result3['Dmax_v'])\n",
    "L = getAvgLambdaStar(R,px)\n",
    "D_v3 = np.array([dmin,dmax])\n",
    "B_v3 = hx(px) - D_v3 - L"
   ]
  },
  {
   "cell_type": "code",
   "execution_count": null,
   "id": "7cccd88c",
   "metadata": {},
   "outputs": [],
   "source": [
    "S = s3\n",
    "\n",
    "py0 = px @ pinv(S) # initial solution\n",
    "v = null_space(S.T)[:,0] # null space vector\n",
    "\n",
    "# find ranges for each coordinate\n",
    "a = [-py0[i]/v[i] for i in range(len(py0))]\n",
    "b = [(1-py0[i])/v[i] for i in range(len(py0))]\n",
    "mins = [np.min([a[i],b[i]]) for i in range(len(py0))]\n",
    "maxs = [np.max([a[i],b[i]]) for i in range(len(py0))]\n",
    "\n",
    "# the safe region is the max of the minima to the min of the maxima\n",
    "r = np.array([np.max(mins),np.min(maxs)])\n",
    "\n",
    "# find distortions\n",
    "Dxy = -np.log(S @ R)\n",
    "dist = np.zeros(2)\n",
    "rate = np.zeros(2)\n",
    "for i in [0,1]:\n",
    "    pyq = py0 + r[i]*v\n",
    "    pxy = np.diag(pyq) @ S\n",
    "    rate[i] = MI(pxy)\n",
    "    dist[i] = np.sum(pxy * Dxy)"
   ]
  },
  {
   "cell_type": "code",
   "execution_count": null,
   "id": "edd51b54",
   "metadata": {},
   "outputs": [],
   "source": []
  }
 ],
 "metadata": {
  "kernelspec": {
   "display_name": "Python 3 (ipykernel)",
   "language": "python",
   "name": "python3"
  },
  "language_info": {
   "codemirror_mode": {
    "name": "ipython",
    "version": 3
   },
   "file_extension": ".py",
   "mimetype": "text/x-python",
   "name": "python",
   "nbconvert_exporter": "python",
   "pygments_lexer": "ipython3",
   "version": "3.11.4"
  }
 },
 "nbformat": 4,
 "nbformat_minor": 5
}
