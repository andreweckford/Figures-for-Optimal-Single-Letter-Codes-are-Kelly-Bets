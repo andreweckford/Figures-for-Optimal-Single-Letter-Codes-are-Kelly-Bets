{
 "cells": [
  {
   "cell_type": "code",
   "execution_count": null,
   "id": "8ec15749",
   "metadata": {},
   "outputs": [],
   "source": [
    "import numpy as np\n",
    "import matplotlib.pyplot as plt\n",
    "from RDtools2 import *\n",
    "from scipy.linalg import inv,pinv,null_space\n"
   ]
  },
  {
   "cell_type": "code",
   "execution_count": null,
   "id": "cfabce7e",
   "metadata": {},
   "outputs": [],
   "source": [
    "# here we will pass the diagonal equivalent reward matrix Q to the function\n",
    "def getAvgLambdaStar(Q,px):\n",
    "  return np.sum(np.log(np.diag(Q)) * px)\n",
    "\n",
    "def hx(px):\n",
    "  return np.sum([phi(i) for i in px])"
   ]
  },
  {
   "cell_type": "code",
   "execution_count": null,
   "id": "ddc671cc",
   "metadata": {},
   "outputs": [],
   "source": [
    "R = np.array([[2,0,1],[0,2,1]])\n",
    "s = np.array([[0.8,0.2],[0.2,0.8]])\n",
    "px = np.array([0.2,0.3,0.5])\n",
    "\n",
    "Qinv = np.diag(pinv(R) @ np.ones(np.shape(R)[0]))\n",
    "Q = inv(Qinv)\n",
    "\n",
    "Dxy = getFullDistortionFunction(R,s)\n",
    "result = getRD(px,Dxy,numPoints=400,show_pb=True)\n",
    "\n",
    "# line for the bound\n",
    "dmin = np.min(result['Dmax_v'])\n",
    "dmax = np.max(result['Dmax_v'])\n",
    "L = getAvgLambdaStar(Q,px)\n",
    "D_v = np.array([dmin,dmax])\n",
    "B_v = hx(px) - D_v - L"
   ]
  },
  {
   "cell_type": "code",
   "execution_count": null,
   "id": "cde3fca6",
   "metadata": {},
   "outputs": [],
   "source": [
    "# null space vector\n",
    "v = null_space(R)[:,0]\n",
    "\n",
    "\n",
    "# find the range over which adding a constant times v still gives a valid probability\n",
    "a = pinv(R) @ np.ones(2)\n",
    "b = v\n",
    "\n",
    "vmin = -1*a/b\n",
    "vmax = (1-a)/b\n",
    "for i in range(len(vmin)):\n",
    "  if v[i] < 0:\n",
    "    foo = vmin[i]\n",
    "    vmin[i] = vmax[i]\n",
    "    vmax[i] = foo\n",
    "\n",
    "rv = [np.max(vmin),np.min(vmax)]\n"
   ]
  },
  {
   "cell_type": "code",
   "execution_count": null,
   "id": "40302179",
   "metadata": {},
   "outputs": [],
   "source": [
    "# For what vector in the null space is $\\Lambda^*$ minimized?\n",
    "\n",
    "epsilon = 1e-3\n",
    "bump_v = np.linspace(rv[0]+epsilon,rv[1]-epsilon,100)\n",
    "\n",
    "Lmin = None\n",
    "\n",
    "#linecount = 0\n",
    "for bump in bump_v:\n",
    "  Qinv = np.diag(pinv(R) @ np.ones(np.shape(R)[0]) + bump * v)\n",
    "  Q = inv(Qinv)\n",
    "  L = getAvgLambdaStar(Q,px)\n",
    "  #D_v2 = np.array([dmin,dmax])\n",
    "  B_v2 = hx(px) - D_v - L\n",
    "  \n",
    "  if (Lmin == None) or (Lmin['L'] > L):\n",
    "    Lmin = {'L':L,'Qinv':Qinv,'bump':bump}\n",
    "\n",
    "B_v2 = hx(px) - D_v - Lmin['L']\n"
   ]
  },
  {
   "cell_type": "code",
   "execution_count": null,
   "id": "e7191ffe",
   "metadata": {},
   "outputs": [],
   "source": [
    "plt.plot(result['Dmax_v'],result['r_v'],color='#4444cc',linestyle='None',marker='x',markersize=4,\n",
    "         label='$R(D)$')\n",
    "\n",
    "B_v2 = hx(px) - D_v - Lmin['L']\n",
    "plt.plot(D_v,B_v2,color='#777777',linewidth=1,label='Bound ($v = v^\\prime$)')\n",
    "\n",
    "Qinv = np.diag(pinv(R) @ np.ones(2))\n",
    "Q = inv(Qinv)\n",
    "LL = getAvgLambdaStar(Q,px)\n",
    "B_v3 = hx(px) - D_v - LL\n",
    "plt.plot(D_v,B_v3,color='#777777',linewidth=1,linestyle='--',label='Bound ($v = 0$)')\n",
    "\n",
    "plt.legend()\n",
    "plt.xlabel('Average distortion $D$')\n",
    "plt.ylabel('Rate (nats/source symbol)')\n",
    "\n",
    "plt.axis([-0.21,0.04,-0.1,0.25])\n",
    "\n",
    "plt.gca().set_aspect(1/plt.gca().get_data_ratio())\n",
    "\n",
    "plt.savefig('Figure4.pdf',bbox_inches='tight')"
   ]
  },
  {
   "cell_type": "code",
   "execution_count": null,
   "id": "4bbdc435",
   "metadata": {},
   "outputs": [],
   "source": []
  }
 ],
 "metadata": {
  "kernelspec": {
   "display_name": "Python 3 (ipykernel)",
   "language": "python",
   "name": "python3"
  },
  "language_info": {
   "codemirror_mode": {
    "name": "ipython",
    "version": 3
   },
   "file_extension": ".py",
   "mimetype": "text/x-python",
   "name": "python",
   "nbconvert_exporter": "python",
   "pygments_lexer": "ipython3",
   "version": "3.7.12"
  }
 },
 "nbformat": 4,
 "nbformat_minor": 5
}
