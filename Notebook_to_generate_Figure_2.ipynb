{
 "cells": [
  {
   "cell_type": "code",
   "execution_count": null,
   "id": "297fc3e1",
   "metadata": {
    "colab": {
     "base_uri": "https://localhost:8080/"
    },
    "executionInfo": {
     "elapsed": 1748,
     "status": "ok",
     "timestamp": 1698705245581,
     "user": {
      "displayName": "Andrew Eckford",
      "userId": "11156867145940340484"
     },
     "user_tz": 360
    },
    "id": "297fc3e1",
    "outputId": "9ab0f44d-63c1-4821-dbed-e4ee4de923d5"
   },
   "outputs": [],
   "source": [
    "import numpy as np\n",
    "import matplotlib.pyplot as plt\n",
    "from scipy.linalg import inv,pinv,null_space\n",
    "from RDtools import *\n",
    "from ProgressBar import ProgressBar\n",
    "\n",
    "# here we will pass the diagonal equivalent reward matrix Q to the function\n",
    "def getAvgLambdaStar(Q,px):\n",
    "  return np.sum(np.log(np.diag(Q)) * px)\n",
    "\n",
    "def hx(px):\n",
    "  return np.sum([phi(i) for i in px])"
   ]
  },
  {
   "cell_type": "code",
   "execution_count": null,
   "id": "7d35fc36",
   "metadata": {
    "id": "7d35fc36"
   },
   "outputs": [],
   "source": [
    "# parameters\n",
    "\n",
    "R = np.array([[2,0.5],[0.5,2]])\n",
    "px = 0.5\n",
    "s = np.array([7/9,2/9,2/9,7/9])\n",
    "s2 = np.array([2/3,1/3,1/3,2/3])"
   ]
  },
  {
   "cell_type": "code",
   "execution_count": null,
   "id": "6bd34e31",
   "metadata": {
    "id": "dbb4bb63"
   },
   "outputs": [],
   "source": [
    "# generate curves for the first subplot\n",
    "\n",
    "# get the rate-distortion function\n",
    "d = getFullDistortionFunction(R,s)\n",
    "result = getRD(px,d,numPoints=200)\n",
    "\n",
    "d2 = getFullDistortionFunction(R,s2)\n",
    "result2 = getRD(px,d2,numPoints=200)\n",
    "\n",
    "# line for the bound\n",
    "dmin = np.min([np.min(result['Dmax_v']),np.min(result2['Dmax_v'])])\n",
    "dmax = np.max([np.max(result['Dmax_v']),np.max(result2['Dmax_v'])])\n",
    "\n",
    "Qinv = np.diag(inv(R) @ np.ones(np.shape(R)[0]))\n",
    "Q = inv(Qinv)\n",
    "\n",
    "L = getAvgLambdaStar(Q,px)\n",
    "D_v = np.array([dmin,dmax])\n",
    "B_v = hx(np.array([1-px,px])) - D_v - L\n",
    "\n",
    "# point of equality\n",
    "Tv = getT(R,s)\n",
    "T = np.array([[Tv[0],Tv[2]],[Tv[1],Tv[3]]])\n",
    "py = np.array([1-px,px]) @ inv(T)\n",
    "pxy = np.diag(py) @ T\n",
    "Dstar = np.sum(pxy * np.array([[d[0],d[2]],[d[1],d[3]]]))\n",
    "Rstar = hx(np.array([1-px,px])) - Dstar - L\n",
    "\n",
    "Tv = getT(R,s2)\n",
    "T = np.array([[Tv[0],Tv[2]],[Tv[1],Tv[3]]])\n",
    "py = np.array([1-px,px]) @ inv(T)\n",
    "pxy = np.diag(py) @ T\n",
    "Dstar2 = np.sum(pxy * np.array([[d2[0],d2[2]],[d2[1],d2[3]]]))\n",
    "Rstar2 = hx(np.array([1-px,px])) - Dstar2 - L"
   ]
  },
  {
   "cell_type": "code",
   "execution_count": null,
   "id": "9a43ac35",
   "metadata": {},
   "outputs": [],
   "source": [
    "# generate curves for second subplot\n",
    "\n",
    "sv = np.linspace(0.02,0.5,num=24,endpoint=False)\n",
    "pb = ProgressBar(len(sv),40)\n",
    "\n",
    "for s0 in sv:\n",
    "  S = np.array([1-s0,s0,s0,1-s0])\n",
    "  d = getFullDistortionFunction(R,S)\n",
    "  if s0 == sv[0]:\n",
    "    results = [getRD(px,d)]\n",
    "  else:\n",
    "    results.append(getRD(px,d))\n",
    "  \n",
    "  pb.iterate()\n",
    "  \n",
    "pb.hide()"
   ]
  },
  {
   "cell_type": "code",
   "execution_count": null,
   "id": "d76a52cb",
   "metadata": {},
   "outputs": [],
   "source": [
    "# generate the plot\n",
    "\n",
    "fig,ax = plt.subplots(1,2)\n",
    "\n",
    "# first subplot\n",
    "\n",
    "# plots R(D) and corresponding point of equality\n",
    "ax[0].plot(result['Dmax_v'],result['r_v'],\n",
    "         color='#4444ff',linestyle='None',marker='x',markersize=5,label='(46)')\n",
    "ax[0].plot([Dstar],[Rstar],marker='+',markersize=18,\n",
    "         color='#4444ff',linestyle='None')\n",
    "\n",
    "ax[0].plot(result2['Dmax_v'],result2['r_v'],\n",
    "         color='#cc2222',linestyle='None',marker='.',markersize=5,label='(47)')\n",
    "ax[0].plot([Dstar2],[Rstar2],marker='+',markersize=18,\n",
    "         color='#cc2222',linestyle='None')\n",
    "\n",
    "\n",
    "# plots the bound line\n",
    "ax[0].plot(D_v,B_v,color='#777777',linewidth=1,label='Bound (32)')\n",
    "\n",
    "ax[0].axis([-0.35,-0.2,-0.01,0.19])\n",
    "ax[0].set_xlabel('Average distortion $D$')\n",
    "ax[0].set_ylabel('Rate (nats/source symbol)')\n",
    "ax[0].legend()\n",
    "ax[0].set_xticks([-0.35,-0.3,-0.25,-0.2])\n",
    "ax[0].set_aspect(1/ax[0].get_data_ratio())\n",
    "\n",
    "# second subplot\n",
    "\n",
    "for i in range(len(sv)):\n",
    "  ax[1].plot(results[i]['Dmax_v'],results[i]['r_v'],color='#4444ff',linewidth=0.5)\n",
    "\n",
    "# plots the bound line\n",
    "D_v = np.array([-0.55,-0.2])\n",
    "B_v = hx(np.array([1-px,px])) - D_v - L\n",
    "ax[1].plot(D_v,B_v,color='#777777',linewidth=1,linestyle='-',label='Bound (32)')\n",
    "\n",
    "ax[1].axis([-0.55,-0.2,-0.01,0.34])\n",
    "ax[1].set_xlabel('Average distortion $D$')\n",
    "#ax[1].set_ylabel('Rate (nats/source symbol)')\n",
    "ax[1].legend()\n",
    "#plt.xticks([-0.35,-0.3,-0.25,-0.2])\n",
    "ax[1].set_aspect(1/ax[1].get_data_ratio())\n",
    "\n",
    "plt.savefig('Figure2.pdf',bbox_inches='tight')"
   ]
  },
  {
   "cell_type": "code",
   "execution_count": null,
   "id": "d85f33bd",
   "metadata": {},
   "outputs": [],
   "source": []
  }
 ],
 "metadata": {
  "colab": {
   "provenance": []
  },
  "kernelspec": {
   "display_name": "Python 3 (ipykernel)",
   "language": "python",
   "name": "python3"
  },
  "language_info": {
   "codemirror_mode": {
    "name": "ipython",
    "version": 3
   },
   "file_extension": ".py",
   "mimetype": "text/x-python",
   "name": "python",
   "nbconvert_exporter": "python",
   "pygments_lexer": "ipython3",
   "version": "3.11.4"
  }
 },
 "nbformat": 4,
 "nbformat_minor": 5
}
